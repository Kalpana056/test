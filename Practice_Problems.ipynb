{
  "nbformat": 4,
  "nbformat_minor": 0,
  "metadata": {
    "colab": {
      "provenance": [],
      "authorship_tag": "ABX9TyMxO8w3d3iEZEXTvq9OkN/Y",
      "include_colab_link": true
    },
    "kernelspec": {
      "name": "python3",
      "display_name": "Python 3"
    },
    "language_info": {
      "name": "python"
    }
  },
  "cells": [
    {
      "cell_type": "markdown",
      "metadata": {
        "id": "view-in-github",
        "colab_type": "text"
      },
      "source": [
        "<a href=\"https://colab.research.google.com/github/Kalpana056/test/blob/main/Practice_Problems.ipynb\" target=\"_parent\"><img src=\"https://colab.research.google.com/assets/colab-badge.svg\" alt=\"Open In Colab\"/></a>"
      ]
    },
    {
      "cell_type": "code",
      "execution_count": null,
      "metadata": {
        "colab": {
          "base_uri": "https://localhost:8080/"
        },
        "id": "TZ8XlnzgkQsT",
        "outputId": "3bd98704-dd55-48ee-909e-b3ab6d9d3b5d"
      },
      "outputs": [
        {
          "output_type": "stream",
          "name": "stdout",
          "text": [
            "5\n"
          ]
        }
      ],
      "source": [
        "#1 Convert a given string to int using a single line of code\n",
        "a='5'\n",
        "print(int(a))"
      ]
    },
    {
      "cell_type": "code",
      "source": [
        "#2 Write a code snippet to convert a string to a list.\n",
        "a=\"hello world Kalpana here\"\n",
        "print(a.split())\n",
        "print(type(a))"
      ],
      "metadata": {
        "colab": {
          "base_uri": "https://localhost:8080/"
        },
        "id": "gKv6-CQpkegw",
        "outputId": "f6bcb08e-899c-4454-c1f5-3e59b5de00ab"
      },
      "execution_count": null,
      "outputs": [
        {
          "output_type": "stream",
          "name": "stdout",
          "text": [
            "['hello', 'world', 'Kalpana', 'here']\n",
            "<class 'str'>\n"
          ]
        }
      ]
    },
    {
      "cell_type": "code",
      "source": [
        "#3 Write a code snippet to reverse a string.\n",
        "str =\"kalpana\"\n",
        "rev_str=\"\"\n",
        "for i in str:\n",
        "  rev_str=i + rev_str\n",
        "print(\"original string:\",str)\n",
        "print(\"revesed string:\",rev_str)"
      ],
      "metadata": {
        "colab": {
          "base_uri": "https://localhost:8080/"
        },
        "id": "AGOIQukCkvq0",
        "outputId": "db2a93ea-a700-4719-b891-017aae4fcd7b"
      },
      "execution_count": null,
      "outputs": [
        {
          "output_type": "stream",
          "name": "stdout",
          "text": [
            "original string: kalpana\n",
            "revesed string: anaplak\n"
          ]
        }
      ]
    },
    {
      "cell_type": "code",
      "source": [
        "#4 Write a code snippet to sort a list in Python.\n",
        "List=[1,34,2,21,44.3,56,2]\n",
        "List.sort()\n",
        "print(List)"
      ],
      "metadata": {
        "colab": {
          "base_uri": "https://localhost:8080/"
        },
        "id": "aK4W7jkingEZ",
        "outputId": "3caca400-25f3-454b-d227-d39bfe1cd246"
      },
      "execution_count": null,
      "outputs": [
        {
          "output_type": "stream",
          "name": "stdout",
          "text": [
            "[1, 2, 2, 21, 34, 44.3, 56]\n"
          ]
        }
      ]
    },
    {
      "cell_type": "code",
      "source": [
        "#5 How to access an element of a list?\n",
        "List1=[\"sai\",\"kalpana\",34,23.2,\"pi\",1]\n",
        "print(List1[3])"
      ],
      "metadata": {
        "colab": {
          "base_uri": "https://localhost:8080/"
        },
        "id": "UZhOg0qRpgVG",
        "outputId": "9df88326-f918-41f4-ab47-763ec9eff3d9"
      },
      "execution_count": null,
      "outputs": [
        {
          "output_type": "stream",
          "name": "stdout",
          "text": [
            "23.2\n"
          ]
        }
      ]
    },
    {
      "cell_type": "code",
      "source": [
        "#6 Discuss different ways of deleting an element from a list.\n",
        "List=[1,2,3,4,5,6,7,8]\n",
        "List.pop(3)\n",
        "print(List)\n",
        "List2=[1,2,3,4,5,6,7,8]\n",
        "List2.remove(3)\n",
        "print(List2)"
      ],
      "metadata": {
        "colab": {
          "base_uri": "https://localhost:8080/"
        },
        "id": "Q4ma9zT_qOte",
        "outputId": "37e8f057-4242-4fec-96fe-2b53aeeafef0"
      },
      "execution_count": null,
      "outputs": [
        {
          "output_type": "stream",
          "name": "stdout",
          "text": [
            "[1, 2, 3, 5, 6, 7, 8]\n",
            "[1, 2, 4, 5, 6, 7, 8]\n"
          ]
        }
      ]
    },
    {
      "cell_type": "code",
      "source": [
        "#7.Write a code snippet to delete an entire list.\n",
        "List=[1,2,3,4,\"sai\",3.14]\n",
        "List.clear()\n",
        "print(\"after clear\",List)"
      ],
      "metadata": {
        "colab": {
          "base_uri": "https://localhost:8080/"
        },
        "id": "v4K6TSC0qivD",
        "outputId": "654ec646-d80a-4572-cae0-d2671f405da4"
      },
      "execution_count": null,
      "outputs": [
        {
          "output_type": "stream",
          "name": "stdout",
          "text": [
            "after clear []\n"
          ]
        }
      ]
    },
    {
      "cell_type": "code",
      "source": [
        "#8 Write a code snippet to reverse an array.\n",
        "array=[1,2,3,4,5,6]\n",
        "array.reverse()\n",
        "print(array)\n",
        "\n",
        "\n",
        "Array=[1,2,3,4,5,6,7]\n",
        "reverse_Array=Array[::-1]\n",
        "print(reverse_Array)"
      ],
      "metadata": {
        "colab": {
          "base_uri": "https://localhost:8080/"
        },
        "id": "ujCJBc_3q_3Z",
        "outputId": "76e20c9d-53e3-4e61-fd84-f42ae8c99aac"
      },
      "execution_count": null,
      "outputs": [
        {
          "output_type": "stream",
          "name": "stdout",
          "text": [
            "[6, 5, 4, 3, 2, 1]\n",
            "[7, 6, 5, 4, 3, 2, 1]\n"
          ]
        }
      ]
    },
    {
      "cell_type": "code",
      "source": [
        "#9 Write a code snippet to concatenate lists.\n",
        "List1=[\"hi\",\"bye\",1,2]\n",
        "List2=[3,2,3.3]\n",
        "List=List1+List2\n",
        "print(List)"
      ],
      "metadata": {
        "colab": {
          "base_uri": "https://localhost:8080/"
        },
        "id": "O6e0kCyosPQS",
        "outputId": "770165c2-18ae-48ad-a5be-558d20a3a4bb"
      },
      "execution_count": null,
      "outputs": [
        {
          "output_type": "stream",
          "name": "stdout",
          "text": [
            "['hi', 'bye', 1, 2, 3, 2, 3.3]\n"
          ]
        }
      ]
    },
    {
      "cell_type": "code",
      "source": [
        "#10  Write a code snippet to generate the square of every element of a list.\n",
        "List=[1,2,3,4,5,6,7,8]\n",
        "square_list=[]\n",
        "for i in List:\n",
        " square_list.append(i*i)\n",
        "print(square_list)"
      ],
      "metadata": {
        "colab": {
          "base_uri": "https://localhost:8080/"
        },
        "id": "ieksjEj5tvI6",
        "outputId": "293c9d73-81f1-4985-ce5d-ef13ee6f90f8"
      },
      "execution_count": null,
      "outputs": [
        {
          "output_type": "stream",
          "name": "stdout",
          "text": [
            "[1, 4, 9, 16, 25, 36, 49, 64]\n"
          ]
        }
      ]
    },
    {
      "cell_type": "code",
      "source": [
        "#11 replacing the string elements\n",
        "s=\"hello world\"\n",
        "s=(s.replace('world','universe').replace ('hello','hi'))\n",
        "print(s)"
      ],
      "metadata": {
        "colab": {
          "base_uri": "https://localhost:8080/"
        },
        "id": "vPDCSd_FusUq",
        "outputId": "1d1acd7a-ff09-43d1-986a-3ff46e01d302"
      },
      "execution_count": null,
      "outputs": [
        {
          "output_type": "stream",
          "name": "stdout",
          "text": [
            "hi universe\n"
          ]
        }
      ]
    },
    {
      "cell_type": "code",
      "source": [
        "#12  Write a program to check whether a number is prime or not.\n",
        "num = int(input(\"Enter a number:\"))\n",
        "Prime =True\n",
        "if num>1:\n",
        "  for i in range(2,num):\n",
        "    if num%i==0:\n",
        "      prime =False\n",
        "      break\n",
        "if prime:\n",
        "  print(\"Entered number is not a prime\")\n",
        "else:\n",
        "  print(\"Entered number is a prime\")"
      ],
      "metadata": {
        "colab": {
          "base_uri": "https://localhost:8080/"
        },
        "id": "eDLtqi1u7UZ8",
        "outputId": "9c09988b-6200-4d08-fcc4-f4f9a9d9b896"
      },
      "execution_count": null,
      "outputs": [
        {
          "output_type": "stream",
          "name": "stdout",
          "text": [
            "Enter a number:88\n",
            "Entered number is a prime\n"
          ]
        }
      ]
    },
    {
      "cell_type": "code",
      "source": [
        "#13 Write a program in Python to return the factorial of a given number using recursion.\n",
        "def factorial(n):\n",
        "  if n==1:\n",
        "    return 1\n",
        "  if n<0:\n",
        "    return \"factorial Doesn't Exit\"\n",
        "  elif n==0:\n",
        "    return 0\n",
        "  else:\n",
        "    return n*factorial(n-1)\n",
        "n= int(input(\"enter number:\"))\n",
        "print(factorial(n))"
      ],
      "metadata": {
        "colab": {
          "base_uri": "https://localhost:8080/"
        },
        "id": "n9xFZJEuLhOS",
        "outputId": "195278f9-6e6f-4c3f-c4d8-4b71ea2e885d"
      },
      "execution_count": null,
      "outputs": [
        {
          "output_type": "stream",
          "name": "stdout",
          "text": [
            "enter number:5\n",
            "120\n"
          ]
        }
      ]
    },
    {
      "cell_type": "code",
      "source": [
        "#14 Fibonacci Series\n",
        "def fibonacci(n):\n",
        "  if n<=1:\n",
        "    return 1\n",
        "  else:\n",
        "    return(fibonacci(n-1)+fibonacci(n-2))\n",
        "n = int(input(\"Enter the num:\"))\n",
        "print(fibonacci(n))"
      ],
      "metadata": {
        "colab": {
          "base_uri": "https://localhost:8080/"
        },
        "id": "00LwAFVvZf4j",
        "outputId": "df8c7295-69e1-4ff8-9b96-58067866d404"
      },
      "execution_count": null,
      "outputs": [
        {
          "output_type": "stream",
          "name": "stdout",
          "text": [
            "Enter the num:5\n",
            "8\n"
          ]
        }
      ]
    },
    {
      "cell_type": "code",
      "source": [],
      "metadata": {
        "id": "-Ei3B_0EZ-Wo"
      },
      "execution_count": null,
      "outputs": []
    }
  ]
}